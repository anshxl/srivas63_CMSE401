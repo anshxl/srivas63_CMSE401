{
 "cells": [
  {
   "cell_type": "code",
   "execution_count": 2,
   "metadata": {},
   "outputs": [],
   "source": [
    "import numpy as np\n",
    "from numba import njit, prange\n",
    "import time\n",
    "from tqdm import tqdm  # or from tqdm.notebook import tqdm if in a notebook\n",
    "# from adam import AdamOptimizer\n",
    "\n",
    "# ---------------- Numba-Optimized Functions ----------------\n",
    "\n",
    "@njit\n",
    "def relu_numba(x):\n",
    "    return np.maximum(0, x)\n",
    "\n",
    "@njit\n",
    "def softmax_numba(x):\n",
    "    exp_x = np.exp(x)\n",
    "    # Sum along axis 1 (for each sample) and keep dims for broadcasting\n",
    "    return exp_x / np.sum(exp_x, axis=1)[:, None]\n",
    "\n",
    "@njit\n",
    "def forward_propagation_numba(X, W1, b1, W2, b2, W3, b3):\n",
    "    z1 = np.dot(X, W1) + b1\n",
    "    a1 = relu_numba(z1)\n",
    "    z2 = np.dot(a1, W2) + b2\n",
    "    a2 = relu_numba(z2)\n",
    "    z3 = np.dot(a2, W3) + b3\n",
    "    a3 = softmax_numba(z3)\n",
    "    return a3, a1, a2, z1, z2, z3\n",
    "\n",
    "@njit\n",
    "def cross_entropy_loss_numba(y, y_hat):\n",
    "    m = y.shape[0]\n",
    "    # Compute loss averaged over batch\n",
    "    loss = -np.sum(y * np.log(y_hat)) / m\n",
    "    return loss\n",
    "\n",
    "@njit\n",
    "def compute_gradients_numba(X, y, a3, a2, a1, W2, W3):\n",
    "    m = X.shape[0]\n",
    "    dz3 = a3 - y\n",
    "    dW3 = np.dot(a2.T, dz3) / m\n",
    "    db3 = np.sum(dz3, axis=0)[None, :]  / m\n",
    "\n",
    "    dz2 = np.dot(dz3, W3.T)\n",
    "    # Apply ReLU derivative: only propagate where activation was positive\n",
    "    dz2 = dz2 * (a2 > 0)\n",
    "    dW2 = np.dot(a1.T, dz2) / m\n",
    "    db2 = np.sum(dz2, axis=0)[None, :]  / m\n",
    "\n",
    "    dz1 = np.dot(dz2, W2.T)\n",
    "    dz1 = dz1 * (a1 > 0)\n",
    "    dW1 = np.dot(X.T, dz1) / m\n",
    "    db1 = np.sum(dz1, axis=0)[None, :]  / m\n",
    "\n",
    "    return dW1, db1, dW2, db2, dW3, db3\n",
    "\n",
    "# ---------------- Neural Network Class ----------------\n",
    "\n",
    "class NeuralNetwork:\n",
    "\n",
    "    def __init__(self, input_size, hidden_size, output_size):\n",
    "        self.input_size = input_size\n",
    "        self.hidden_size = hidden_size\n",
    "        self.output_size = output_size\n",
    "        self.init_params(input_size, hidden_size, output_size)\n",
    "\n",
    "    def He_initialization(self, input_size, hidden_size):\n",
    "        return np.random.randn(input_size, hidden_size) * np.sqrt(2 / input_size)\n",
    "    \n",
    "    def init_params(self, input_size, hidden_size, output_size):\n",
    "        self.W1 = self.He_initialization(input_size, hidden_size)\n",
    "        self.b1 = np.zeros((1, hidden_size))\n",
    "        self.W2 = self.He_initialization(hidden_size, hidden_size)\n",
    "        self.b2 = np.zeros((1, hidden_size))\n",
    "        self.W3 = self.He_initialization(hidden_size, output_size)\n",
    "        self.b3 = np.zeros((1, output_size))\n",
    "\n",
    "    def forward_propagation(self, X):\n",
    "        # Call the Numba-optimized forward propagation function.\n",
    "        # The function returns a3 (final output), as well as intermediate activations.\n",
    "        self.a3, self.a1, self.a2, self.z1, self.z2, self.z3 = forward_propagation_numba(\n",
    "            X, self.W1, self.b1, self.W2, self.b2, self.W3, self.b3)\n",
    "        return self.a3\n",
    "    \n",
    "    def cross_entropy_loss(self, y, y_hat):\n",
    "        return cross_entropy_loss_numba(y, y_hat)\n",
    "\n",
    "    def compute_gradients(self, X, y):\n",
    "        # Ensure that forward_propagation has been computed so that a3, a2, and a1 are available.\n",
    "        gradients = compute_gradients_numba(X, y, self.a3, self.a2, self.a1, self.W2, self.W3)\n",
    "        return gradients\n",
    "\n",
    "    def train(self, X, y, learning_rate, epochs):\n",
    "        # Get list of parameters for the Adam optimizer\n",
    "        parameters = [self.W1, self.b1, self.W2, self.b2, self.W3, self.b3]\n",
    "        adam = AdamOptimizer(parameters, learning_rate=learning_rate)\n",
    "        self.loss_values = []  # to store loss values\n",
    "        \n",
    "        # \"Warm-up\" the JIT functions before timing (optional but recommended)\n",
    "        self.forward_propagation(X)\n",
    "        _ = self.cross_entropy_loss(y, self.a3)\n",
    "        _ = self.compute_gradients(X, y)\n",
    "        \n",
    "        start_time = time.time()\n",
    "        with tqdm(range(epochs), desc=\"Training\", unit=\"epoch\") as pbar:\n",
    "            for i in pbar:\n",
    "                y_hat = self.forward_propagation(X)\n",
    "                loss = self.cross_entropy_loss(y, y_hat)\n",
    "                self.loss_values.append(loss)\n",
    "\n",
    "                gradients = self.compute_gradients(X, y)\n",
    "                adam.update(gradients)\n",
    "                # Unpack updated parameters from the optimizer\n",
    "                self.W1, self.b1, self.W2, self.b2, self.W3, self.b3 = adam.parameters\n",
    "                \n",
    "                pbar.set_postfix(loss=f'{loss:.4f}')\n",
    "        \n",
    "        total_time = time.time() - start_time\n",
    "        print(f\"Total training time: {total_time:.2f} seconds\")\n",
    "        \n",
    "    def predict(self, X):\n",
    "        return np.argmax(self.forward_propagation(X), axis=1)\n",
    "    \n",
    "    def evaluate(self, X, y):\n",
    "        y_pred = self.predict(X)\n",
    "        return np.mean(y_pred == np.argmax(y, axis=1)) * 100\n",
    "    \n",
    "    def save_model(self, file_name):\n",
    "        np.save(file_name, [self.W1, self.b1, self.W2, self.b2, self.W3, self.b3])\n",
    "\n",
    "    def load_model(self, file_name):\n",
    "        self.W1, self.b1, self.W2, self.b2, self.W3, self.b3 = np.load(file_name, allow_pickle=True)\n",
    "    \n",
    "    def __repr__(self):\n",
    "        return f\"NeuralNetwork(input_size={self.input_size}, hidden_size={self.hidden_size}, output_size={self.output_size})\"\n",
    "\n",
    "    def __str__(self):\n",
    "        return f\"NeuralNetwork with {self.input_size} input nodes, {self.hidden_size} hidden nodes, and {self.output_size} output nodes\"\n",
    "    \n",
    "    def __len__(self):\n",
    "        return self.hidden_size  # Assuming __len__ should return the number of hidden nodes\n",
    "    \n",
    "    def plot_loss(self, filename=\"loss_plot\", format=\"png\", show_inline=False, save=True):\n",
    "        try:\n",
    "            import matplotlib.pyplot as plt\n",
    "            from IPython.display import Image, display\n",
    "        except ImportError as e:\n",
    "            raise ImportError(\"matplotlib and IPython are required. Install with 'pip install matplotlib ipython'.\")\n",
    "        \n",
    "        plt.figure(figsize=(10, 6))\n",
    "        plt.plot(self.loss_values)\n",
    "        plt.title(\"Loss over epochs\")\n",
    "        plt.xlabel(\"Epoch\")\n",
    "        plt.ylabel(\"Cross-entropy loss\")\n",
    "        plt.grid(True, alpha=0.5)\n",
    "        plt.tight_layout()\n",
    "        if save:\n",
    "            plt.savefig(f\"plots/{filename}.{format}\", format=format)\n",
    "            \n",
    "    def plot_architecture(self, filename=\"model_architecture\", format=\"png\", show_inline=False):\n",
    "        try:\n",
    "            from graphviz import Digraph\n",
    "            from IPython.display import Image, display\n",
    "        except ImportError as e:\n",
    "            raise ImportError(\"graphviz and IPython are required. Install with 'pip install graphviz ipython'.\")\n",
    "\n",
    "        dot = Digraph(name=\"Model Architecture\", format=format)\n",
    "        dot.attr(rankdir='LR', splines='ortho')\n",
    "        \n",
    "        dot.node(\"input\", f\"Input\\n({self.input_size})\")\n",
    "        dot.node(\"hidden1\", f\"Hidden Layer 1\\n({self.hidden_size})\\nReLU\")\n",
    "        dot.node(\"hidden2\", f\"Hidden Layer 2\\n({self.hidden_size})\\nReLU\")\n",
    "        dot.node(\"output\", f\"Output\\n({self.output_size})\\nSoftmax\")\n",
    "        \n",
    "        dot.edge(\"input\", \"hidden1\", label=\"W1, b1\")\n",
    "        dot.edge(\"hidden1\", \"hidden2\", label=\"W2, b2\")\n",
    "        dot.edge(\"hidden2\", \"output\", label=\"W3, b3\")\n",
    "        \n",
    "        dot.render(filename, format=format, cleanup=True)\n",
    "        \n",
    "        if show_inline:\n",
    "            display(Image(dot.pipe(format=format)))\n"
   ]
  },
  {
   "cell_type": "code",
   "execution_count": 3,
   "metadata": {},
   "outputs": [],
   "source": [
    "import numba"
   ]
  },
  {
   "cell_type": "code",
   "execution_count": 4,
   "metadata": {},
   "outputs": [
    {
     "data": {
      "text/plain": [
       "'0.60.0'"
      ]
     },
     "execution_count": 4,
     "metadata": {},
     "output_type": "execute_result"
    }
   ],
   "source": [
    "numba.__version__"
   ]
  },
  {
   "cell_type": "code",
   "execution_count": 2,
   "metadata": {},
   "outputs": [
    {
     "name": "stderr",
     "output_type": "stream",
     "text": [
      "Training: 100%|██████████| 20/20 [00:11<00:00,  1.68epoch/s, loss=0.6157]"
     ]
    },
    {
     "name": "stdout",
     "output_type": "stream",
     "text": [
      "Total training time: 11.90 seconds\n"
     ]
    },
    {
     "name": "stderr",
     "output_type": "stream",
     "text": [
      "\n"
     ]
    }
   ],
   "source": [
    "# Load MNIST dataset\n",
    "from data_loader import load_data\n",
    "\n",
    "(X_train, y_train), (X_test, y_test) = load_data()\n",
    "\n",
    "# Create an instance of your network\n",
    "nn = NeuralNetwork(input_size=784, hidden_size=128, output_size=10)\n",
    "\n",
    "# Train the network\n",
    "nn.train(X_train, y_train, learning_rate=0.001, epochs=20)"
   ]
  },
  {
   "cell_type": "code",
   "execution_count": 3,
   "metadata": {},
   "outputs": [
    {
     "name": "stdout",
     "output_type": "stream",
     "text": [
      "Train accuracy: 84.26%\n",
      "Test accuracy: 85.29%\n"
     ]
    }
   ],
   "source": [
    "# Evaluate the network\n",
    "train_accuracy = nn.evaluate(X_train, y_train)\n",
    "test_accuracy = nn.evaluate(X_test, y_test)\n",
    "print(f\"Train accuracy: {train_accuracy:.2f}%\")\n",
    "print(f\"Test accuracy: {test_accuracy:.2f}%\")"
   ]
  },
  {
   "cell_type": "code",
   "execution_count": 4,
   "metadata": {},
   "outputs": [
    {
     "data": {
      "image/png": "[encoded data removed]",
      "text/plain": [
       "<Figure size 1000x600 with 1 Axes>"
      ]
     },
     "metadata": {},
     "output_type": "display_data"
    }
   ],
   "source": [
    "# Plot loss\n",
    "nn.plot_loss()"
   ]
  },
  {
   "cell_type": "code",
   "execution_count": null,
   "metadata": {},
   "outputs": [],
   "source": []
  }
 ],
 "metadata": {
  "kernelspec": {
   "display_name": "tf",
   "language": "python",
   "name": "python3"
  },
  "language_info": {
   "codemirror_mode": {
    "name": "ipython",
    "version": 3
   },
   "file_extension": ".py",
   "mimetype": "text/x-python",
   "name": "python",
   "nbconvert_exporter": "python",
   "pygments_lexer": "ipython3",
   "version": "3.11.5"
  }
 },
 "nbformat": 4,
 "nbformat_minor": 2
}
